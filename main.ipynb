{
 "cells": [
  {
   "cell_type": "markdown",
   "metadata": {},
   "source": [
    "# Enhanced Climate Analysis Tool\n",
    "\n",
    "This notebook launches the enhanced Climate Analysis Tool with the following features:\n",
    "\n",
    "- Streamlined Earth Engine authentication\n",
    "- Improved user interface with comparison functionality\n",
    "- Support for multiple climate datasets (ERA5, PRISM, DAYMET)\n",
    "- Interactive visualization of climate indices\n",
    "- Enhanced data export options\n",
    "- Command-line interface for advanced users"
   ]
  },
  {
   "cell_type": "markdown",
   "metadata": {},
   "source": [
    "## Setup and Installation\n",
    "\n",
    "First, ensure you have all required dependencies installed:"
   ]
  },
  {
   "cell_type": "code",
   "execution_count": null,
   "metadata": {},
   "outputs": [],
   "source": [
    "# Uncomment and run this cell if you need to install dependencies\n",
    "# !pip install earthengine-api geemap ipywidgets geopandas pandas numpy plotly"
   ]
  },
  {
   "cell_type": "markdown",
   "metadata": {},
   "source": [
    "## Import Modules\n",
    "\n",
    "Import and check all required components:"
   ]
  },
  {
   "cell_type": "code",
   "execution_count": null,
   "metadata": {},
   "outputs": [],
   "source": [
    "import sys\n",
    "import os\n",
    "\n",
    "# Ensure modules are in path\n",
    "module_path = os.path.abspath('.')\n",
    "if module_path not in sys.path:\n",
    "    sys.path.append(module_path)\n",
    "\n",
    "# Import necessary modules\n",
    "try:\n",
    "    import ee\n",
    "    import geemap\n",
    "    import ipywidgets as widgets\n",
    "    from climate_tool import ClimateAnalysisTool\n",
    "    \n",
    "    print(\"✓ All modules imported successfully!\")\n",
    "except ImportError as e:\n",
    "    print(f\"Error importing modules: {str(e)}\")\n",
    "    print(\"Please install missing dependencies using the cell above.\")"
   ]
  },
  {
   "cell_type": "markdown",
   "metadata": {},
   "source": [
    "## Launch Climate Analysis Tool\n",
    "\n",
    "Initialize and start the Climate Analysis Tool:"
   ]
  },
  {
   "cell_type": "code",
   "execution_count": null,
   "metadata": {},
   "outputs": [],
   "source": [
    "# Create and start Climate Analysis Tool\n",
    "tool = ClimateAnalysisTool()\n",
    "tool.start()"
   ]
  },
  {
   "cell_type": "markdown",
   "metadata": {},
   "source": [
    "## Command Line Interface\n",
    "\n",
    "Advanced users can also interact with the tool using the command line interface:"
   ]
  },
  {
   "cell_type": "code",
   "execution_count": null,
   "metadata": {},
   "outputs": [],
   "source": [
    "# Uncomment and run this cell to use the CLI directly\n",
    "from climate_cli import CliTool\n",
    "cli = CliTool()\n",
    "cli.run_command(\"analyze ERA5 Temperature 'Annual maximum temperature' 1980 2020\")"
   ]
  },
  {
   "cell_type": "markdown",
   "metadata": {},
   "source": [
    "## About\n",
    "\n",
    "**Enhanced Climate Analysis Tool** v2.0\n",
    "\n",
    "This tool enables analysis of climate data using Google Earth Engine, providing access to global climate datasets for analyzing trends and patterns in precipitation and temperature.\n",
    "\n",
    "### Features\n",
    "\n",
    "- **Authentication**: Secure Google Earth Engine authentication\n",
    "- **Area Selection**: Draw on map, upload shapefiles, or enter coordinates\n",
    "- **Multiple Datasets**: ERA5, PRISM, DAYMET with easy expansion\n",
    "- **Climate Indices**: Precipitation and temperature indices\n",
    "- **Comparison**: Side-by-side comparison of datasets, time periods, or indices\n",
    "- **Data Export**: Export current view or full time series in multiple formats\n",
    "- **Command Line**: Advanced scripting capabilities for batch processing\n",
    "\n",
    "### Getting Help\n",
    "\n",
    "For more information, click the 'Help' tab in the tool interface."
   ]
  }
 ],
 "metadata": {
  "kernelspec": {
   "display_name": "gmap",
   "language": "python",
   "name": "python3"
  },
  "language_info": {
   "codemirror_mode": {
    "name": "ipython",
    "version": 3
   },
   "file_extension": ".py",
   "mimetype": "text/x-python",
   "name": "python",
   "nbconvert_exporter": "python",
   "pygments_lexer": "ipython3",
   "version": "3.11.10"
  }
 },
 "nbformat": 4,
 "nbformat_minor": 4
}
